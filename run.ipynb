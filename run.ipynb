{
 "cells": [
  {
   "cell_type": "code",
   "execution_count": 1,
   "id": "purple-project",
   "metadata": {},
   "outputs": [],
   "source": [
    "import os\n",
    "import tifffile\n",
    "from mm import *"
   ]
  },
  {
   "cell_type": "markdown",
   "id": "sacred-headquarters",
   "metadata": {},
   "source": [
    "### Washing block\n",
    "Washing tubes with PBS -- Do this when starting a new type of experiment.\n",
    "\n",
    "- Put the tubings to be used in the PBS containing beaker/bottle.\n",
    "- Run this block before starting experiment.\n"
   ]
  },
  {
   "cell_type": "code",
   "execution_count": 2,
   "id": "micro-smell",
   "metadata": {},
   "outputs": [],
   "source": [
    "loadSample('b2', 1)\n",
    "loadSample('s1', 1)\n",
    "loadSample('s2', 1)\n",
    "loadSample('s3', 1)\n",
    "loadSample('s4', 1)\n",
    "\n",
    "loadSample('b4', 1)\n",
    "loadSample('s5', 1)\n",
    "loadSample('s6', 1)\n",
    "loadSample('s7', 1)\n",
    "loadSample('s8', 1)\n",
    "\n",
    "loadSample('b5', 1)\n",
    "loadSample('s9', 1)\n",
    "loadSample('s10', 1)\n",
    "loadSample('s11', 1)"
   ]
  },
  {
   "cell_type": "markdown",
   "id": "smooth-jefferson",
   "metadata": {},
   "source": [
    "### Calibration\n",
    "\n",
    "- Connect all tubes to the tube containing GH-AF-480 probe (50mM) & buffer tubes to their respective buffers.\n",
    "- Run this block which will take the timelapse of the GH-AF-480 probe (50nM) through the FCS chamber.\n",
    "- Copy the printed time in a file.\n",
    "- Open each port timelapse images in ImageT. Go to Image>Stacks>Plot Z-axis Profile.\n",
    "- It will plot an intensity change graph. Click on the List button on the bottom left of the graph.\n",
    "- Save these values in an excel sheet. Repeat for all the ports. \n",
    "- Choose the suitable peak time when the intensity reached maximum in the FCS2 chamber.\n",
    "- Note the number for each prot and mulitply it with 8.3 (which is the flow rate ul per second).\n",
    "- This will be the tube_vols for each port.\n"
   ]
  },
  {
   "cell_type": "code",
   "execution_count": null,
   "id": "agricultural-private",
   "metadata": {},
   "outputs": [],
   "source": [
    "def take_time_lapse(savefile, n_rounds):\n",
    "    mmc.set_exposure(500)\n",
    "    selectChannel('FL-565')\n",
    "    time.sleep(2.5)\n",
    "    with tifffile.TiffWriter(savefile) as tif:\n",
    "        startPump()\n",
    "        t0 = time.time()\n",
    "        time_points = np.zeros((n_rounds,))\n",
    "        for round in range(n_rounds):\n",
    "            time_points[round] = time.time() - t0\n",
    "            img = takeImage(False)\n",
    "            tif.write(img, contiguous = True)\n",
    "            time.sleep(0.4)\n",
    "    stopPump()\n",
    "    selectChannel('DIC')\n",
    "    return time_points\n",
    "\n",
    "all_ports = [('b2','b1'), ('s1','b1'), ('s2','b1'), ('s3','b1'), ('s4','b1'), \n",
    "             ('b4','b3'), ('s5','b3'), ('s6','b3'), ('s7','b3'), ('s8','b3'), \n",
    "             ('s9','b5'), ('s10','b5'), ('s11','b5')]\n",
    "\n",
    "for port, buffer_port in all_ports:\n",
    "    print(\"Port:\" + port)\n",
    "    loadSample(port, 0.2)\n",
    "    loadSample(buffer_port, 0.001)\n",
    "    time_points = take_time_lapse('calibration-' + port + '.tif', 180)\n",
    "    print(time_points)\n",
    "    #loadSample(buffer_port, 0.5)"
   ]
  },
  {
   "cell_type": "markdown",
   "id": "straight-bible",
   "metadata": {},
   "source": [
    "### Initialization Step\n",
    "This step load samples into the initial segment of the tubing\n",
    "- First insert tubings into the correct sample vessels\n",
    "- List all sample ports used in exp in 'sample_ports'\n",
    "- List all buffer ports used in exp in 'buffer_ports'\n",
    "- run this block (shift_enter)"
   ]
  },
  {
   "cell_type": "code",
   "execution_count": null,
   "id": "radical-english",
   "metadata": {},
   "outputs": [],
   "source": [
    "sample_ports = ['s1', 's2', 's3', 's4', 's5', 's6', 's7', 's8', 's9', 's10', 's11']\n",
    "buffer_ports = ['b5', 'b2', 'b1', 'b3', 'b4']\n",
    "\n",
    "for port in sample_ports:\n",
    "    loadSample(port, 0.2)\n",
    "\n",
    "for port in buffer_ports:\n",
    "    loadSample(port, 1)"
   ]
  },
  {
   "cell_type": "markdown",
   "id": "legitimate-surname",
   "metadata": {},
   "source": [
    "### Here the real experiment start\n",
    "\n",
    "CHECKLIST:\n",
    "    \n",
    "    - in Micromanager, check that the Changroup is selected as 'Channel'\n",
    "    - in Micromanager, check that the Autofocus setting is selected as 'Duo'\n",
    "    - in Micromanager, make sure the stage position list is open and positions are selected. Save the positions.\n",
    "    - Make sure the bulb is on."
   ]
  },
  {
   "cell_type": "code",
   "execution_count": 7,
   "id": "defined-strengthening",
   "metadata": {},
   "outputs": [],
   "source": [
    "stainings = ['s9', 's9', 's9', 's9', 's9', 's9', 's9', 's9', 's9', 's9']\n",
    "washing = ['b5', 'b5', 'b5', 'b5', 'b5', 'b5', 'b5', 'b5', 'b5', 'b5']\n",
    "mmc.set_exposure(500)\n",
    "idx = 1\n",
    "for st, wa in zip(stainings[(idx-1):], washing[(idx-1):]):\n",
    "    #staining\n",
    "    loadIncubateWash(st, 60, wa)\n",
    "    imagingStep(pathPrefix = 's-Round-%i'%idx, channels=['DIC','FL-647'], grid=(5,5))\n",
    "    \n",
    "    #Protease\n",
    "    loadIncubateWash('s10', 60, 'b5')\n",
    "    imagingStep(pathPrefix = 'p-Round-%i'%idx, channels=['DIC','FL-647'], grid=(5,5))\n",
    "    \n",
    "    #NaBH4\n",
    "    loadSample('b2', 2.5)\n",
    "    loadSample('b1', 2)\n",
    "    imagingStep(pathPrefix = 'b-Round-%i'%idx, channels=['DIC','FL-647'], grid=(5,5))\n",
    "    \n",
    "    idx += 1"
   ]
  },
  {
   "cell_type": "markdown",
   "id": "funded-kingston",
   "metadata": {},
   "source": [
    "### Test"
   ]
  },
  {
   "cell_type": "code",
   "execution_count": 3,
   "id": "swedish-cancellation",
   "metadata": {},
   "outputs": [],
   "source": [
    "imagingStep(pathPrefix = 'test', channels=['DIC', 'FL-647'], grid=(3,3))"
   ]
  },
  {
   "cell_type": "code",
   "execution_count": 6,
   "id": "tough-holocaust",
   "metadata": {},
   "outputs": [],
   "source": [
    "loadSample('b5', 1)"
   ]
  },
  {
   "cell_type": "code",
   "execution_count": null,
   "id": "sharp-fitness",
   "metadata": {},
   "outputs": [],
   "source": []
  },
  {
   "cell_type": "code",
   "execution_count": 4,
   "id": "norwegian-popularity",
   "metadata": {},
   "outputs": [],
   "source": [
    "sample_ports = ['s9', 's10', 's11']\n",
    "buffer_ports = ['b5', 'b5', 'b5']\n",
    "\n",
    "for port in sample_ports:\n",
    "    loadSample(port, 0.2)\n",
    "\n",
    "for port in buffer_ports:\n",
    "    loadSample(port, 0.4)"
   ]
  },
  {
   "cell_type": "code",
   "execution_count": null,
   "id": "later-pricing",
   "metadata": {},
   "outputs": [],
   "source": []
  }
 ],
 "metadata": {
  "kernelspec": {
   "display_name": "Python 3",
   "language": "python",
   "name": "python3"
  },
  "language_info": {
   "codemirror_mode": {
    "name": "ipython",
    "version": 3
   },
   "file_extension": ".py",
   "mimetype": "text/x-python",
   "name": "python",
   "nbconvert_exporter": "python",
   "pygments_lexer": "ipython3",
   "version": "3.8.7"
  }
 },
 "nbformat": 4,
 "nbformat_minor": 5
}
